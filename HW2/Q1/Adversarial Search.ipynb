{
 "cells": [
  {
   "cell_type": "markdown",
   "metadata": {
    "pycharm": {
     "name": "#%% md\n"
    }
   },
   "source": [
    "<div align=center>\n",
    "\t\t\n",
    "<p></p>\n",
    "<p></p>\n",
    "<font size=5>\n",
    "<font/>\n",
    "<p></p>\n",
    " <br/>\n",
    "    <br/>\n",
    "<font color=#FF7500>\n",
    "Sharif University of Technology - Department of Computer Engineering\n",
    "</font>\n",
    "<p></p>\n",
    "<font color=blue>\n",
    "Artificial Intelligence\n",
    "</font>\n",
    "<br/>\n",
    "<br/>\n",
    "Spring 2023\n",
    "\n",
    "<div/>\n",
    "\n",
    "<hr/>\n",
    "\t\t<div align=center>\n",
    "\t\t    <font color=red size=6>\n",
    "\t\t\t    <br />\n",
    "Practical Assignment 2 (Adversarial Search)\n",
    "\t\t\t</font>\n",
    "    <br/>\n",
    "                <br/>\n",
    "    </div>"
   ]
  },
  {
   "cell_type": "markdown",
   "metadata": {
    "pycharm": {
     "name": "#%% md\n"
    }
   },
   "source": [
    "## Libraries"
   ]
  },
  {
   "cell_type": "code",
   "execution_count": null,
   "metadata": {
    "pycharm": {
     "name": "#%%\n"
    }
   },
   "outputs": [],
   "source": [
    "! pip install pygame\n",
    "! pip install numpy"
   ]
  },
  {
   "cell_type": "markdown",
   "metadata": {
    "pycharm": {
     "name": "#%% md\n"
    }
   },
   "source": [
    "# Adversarial Search (50 Points)"
   ]
  },
  {
   "cell_type": "markdown",
   "metadata": {
    "pycharm": {
     "name": "#%% md\n"
    }
   },
   "source": [
    "In this problem you must implement a minimax agent to play a simple game know as Tic-tac-toe."
   ]
  },
  {
   "cell_type": "markdown",
   "metadata": {
    "pycharm": {
     "name": "#%% md\n"
    }
   },
   "source": [
    "XO is a paper-and-pencil game for two players who take turns marking the spaces in a three-by-three grid with X or O. The player who succeeds in placing three of their marks in a horizontal, vertical, or diagonal row is the winner."
   ]
  },
  {
   "cell_type": "markdown",
   "metadata": {
    "pycharm": {
     "name": "#%% md\n"
    }
   },
   "source": [
    "The game has already been implemented for you. You should implement two things:  \n",
    "1 - Implement the two minimax player logic in _Player.py_ . For the first player you must create the minimax tree until you reach a terminal node(a state which a player has won or there is a draw) or a cutoff state. Then you must use an evaluation function to score the leafs and find the next best move. For the second player you must do all the above however when you are playing as max there is a probability that you will choose a random move instead of the best move.\n",
    "2 - Implement the evaluation function in _Board.py_. Since we can't create the full game tree we need some sort of scoring function to differentiate between states. For example, we can count the pieces that are neighbours. better evaluation function will lead to a better minimax player.\n",
    "\n",
    "We will use the commented function in main.py to grade your code. You can also test your code by playing with it or using a random player."
   ]
  },
  {
   "cell_type": "markdown",
   "metadata": {
    "pycharm": {
     "name": "#%% md\n"
    }
   },
   "source": [
    "You can play the game with a random player by running the next cell. Upon running it a GUI of the game will open.\n",
    "You can also change the players' type in this section."
   ]
  },
  {
   "cell_type": "code",
   "execution_count": null,
   "metadata": {
    "pycharm": {
     "name": "#%%\n"
    }
   },
   "outputs": [
    {
     "name": "stdout",
     "output_type": "stream",
     "text": [
      "pygame 2.2.0 (SDL 2.0.22, Python 3.11.2)\n",
      "Hello from the pygame community. https://www.pygame.org/contribute.html\n",
      "player1 is O. player2 is X.\n",
      "player1 goes first.\n",
      "PLAYER 1 WINS!\n"
     ]
    }
   ],
   "source": [
    "from Game import XO\n",
    "from Player import HumanPlayer, RandomPlayer, MiniMaxPlayer, MiniMaxProbPlayer\n",
    "\n",
    "player1 = RandomPlayer(1)\n",
    "player2 = HumanPlayer(2)\n",
    "game = XO(player1, player2)\n",
    "game.play_game_with_gui()"
   ]
  },
  {
   "cell_type": "markdown",
   "metadata": {
    "pycharm": {
     "name": "#%% md\n"
    }
   },
   "source": [
    "**Complete  the play function of MiniMaxPlayer and MiniMaxProbPlayer in _player.py_ and score_position function in _Board.py_, minimax and minimax_prob functions in _alpha_beta.py_ then run the following cells to test your implementation.**\n",
    "\n",
    "For earning full mark, MiniMaxPlayer shouldn't lose against RandomPlayer and MiniMaxProbPlayer, and you should win at least 45 game of these 50 game."
   ]
  },
  {
   "cell_type": "code",
   "execution_count": 1,
   "metadata": {
    "pycharm": {
     "name": "#%%\n"
    }
   },
   "outputs": [
    {
     "name": "stdout",
     "output_type": "stream",
     "text": [
      "pygame 2.2.0 (SDL 2.0.22, Python 3.11.2)\n",
      "Hello from the pygame community. https://www.pygame.org/contribute.html\n",
      "player1 is O. player2 is X.\n",
      "player2 goes first.\n",
      "PLAYER 1 WINS!\n",
      "[[1. 1. 1.]\n",
      " [1. 2. 2.]\n",
      " [2. 2. 0.]]\n",
      "player1 is O. player2 is X.\n",
      "player1 goes first.\n",
      "PLAYER 1 WINS!\n",
      "[[1. 0. 0.]\n",
      " [0. 1. 0.]\n",
      " [2. 2. 1.]]\n",
      "player1 is O. player2 is X.\n",
      "player1 goes first.\n",
      "PLAYER 1 WINS!\n",
      "[[1. 0. 0.]\n",
      " [2. 1. 0.]\n",
      " [2. 0. 1.]]\n",
      "player1 is O. player2 is X.\n",
      "player2 goes first.\n",
      "PLAYER 2 WINS!\n",
      "[[1. 1. 2.]\n",
      " [1. 1. 2.]\n",
      " [2. 2. 2.]]\n",
      "player1 is O. player2 is X.\n",
      "player2 goes first.\n",
      "PLAYER 1 WINS!\n",
      "[[2. 1. 0.]\n",
      " [0. 1. 0.]\n",
      " [2. 1. 2.]]\n",
      "player1 is O. player2 is X.\n",
      "player2 goes first.\n",
      "NO ONE WON DRAW!\n",
      "[[1. 1. 2.]\n",
      " [2. 2. 1.]\n",
      " [1. 2. 2.]]\n",
      "player1 is O. player2 is X.\n",
      "player2 goes first.\n",
      "PLAYER 1 WINS!\n",
      "[[1. 2. 0.]\n",
      " [0. 1. 2.]\n",
      " [0. 2. 1.]]\n",
      "player1 is O. player2 is X.\n",
      "player1 goes first.\n",
      "PLAYER 2 WINS!\n",
      "[[1. 1. 2.]\n",
      " [1. 1. 2.]\n",
      " [0. 2. 2.]]\n",
      "player1 is O. player2 is X.\n",
      "player2 goes first.\n",
      "PLAYER 1 WINS!\n",
      "[[1. 1. 1.]\n",
      " [0. 2. 0.]\n",
      " [2. 0. 2.]]\n",
      "player1 is O. player2 is X.\n",
      "player2 goes first.\n",
      "PLAYER 1 WINS!\n",
      "[[1. 2. 2.]\n",
      " [1. 1. 1.]\n",
      " [0. 2. 2.]]\n",
      "player1 is O. player2 is X.\n",
      "player1 goes first.\n",
      "PLAYER 1 WINS!\n",
      "[[1. 2. 0.]\n",
      " [0. 1. 0.]\n",
      " [2. 0. 1.]]\n",
      "player1 is O. player2 is X.\n",
      "player2 goes first.\n",
      "PLAYER 2 WINS!\n",
      "[[1. 1. 2.]\n",
      " [1. 2. 0.]\n",
      " [2. 0. 2.]]\n",
      "player1 is O. player2 is X.\n",
      "player2 goes first.\n",
      "PLAYER 1 WINS!\n",
      "[[1. 1. 1.]\n",
      " [0. 2. 0.]\n",
      " [0. 2. 2.]]\n",
      "player1 is O. player2 is X.\n",
      "player2 goes first.\n",
      "PLAYER 1 WINS!\n",
      "[[1. 2. 0.]\n",
      " [2. 1. 2.]\n",
      " [0. 0. 1.]]\n",
      "player1 is O. player2 is X.\n",
      "player1 goes first.\n",
      "PLAYER 1 WINS!\n",
      "[[1. 1. 1.]\n",
      " [2. 1. 2.]\n",
      " [0. 0. 2.]]\n",
      "player1 is O. player2 is X.\n",
      "player2 goes first.\n",
      "PLAYER 1 WINS!\n",
      "[[1. 1. 1.]\n",
      " [1. 2. 2.]\n",
      " [2. 2. 0.]]\n",
      "player1 is O. player2 is X.\n",
      "player1 goes first.\n",
      "PLAYER 1 WINS!\n",
      "[[1. 1. 1.]\n",
      " [0. 0. 0.]\n",
      " [0. 2. 2.]]\n",
      "player1 is O. player2 is X.\n",
      "player1 goes first.\n",
      "PLAYER 1 WINS!\n",
      "[[1. 0. 2.]\n",
      " [0. 1. 2.]\n",
      " [0. 0. 1.]]\n",
      "player1 is O. player2 is X.\n",
      "player1 goes first.\n",
      "PLAYER 1 WINS!\n",
      "[[1. 2. 2.]\n",
      " [0. 1. 0.]\n",
      " [0. 0. 1.]]\n",
      "player1 is O. player2 is X.\n",
      "player1 goes first.\n",
      "PLAYER 1 WINS!\n",
      "[[1. 2. 2.]\n",
      " [0. 1. 0.]\n",
      " [0. 0. 1.]]\n",
      "player1 is O. player2 is X.\n",
      "player1 goes first.\n",
      "PLAYER 2 WINS!\n",
      "[[1. 0. 1.]\n",
      " [0. 1. 0.]\n",
      " [2. 2. 2.]]\n",
      "player1 is O. player2 is X.\n",
      "player1 goes first.\n",
      "PLAYER 1 WINS!\n",
      "[[1. 0. 0.]\n",
      " [0. 1. 2.]\n",
      " [2. 0. 1.]]\n",
      "player1 is O. player2 is X.\n",
      "player1 goes first.\n",
      "PLAYER 1 WINS!\n",
      "[[1. 1. 1.]\n",
      " [0. 0. 0.]\n",
      " [2. 0. 2.]]\n",
      "player1 is O. player2 is X.\n",
      "player2 goes first.\n",
      "PLAYER 1 WINS!\n",
      "[[1. 2. 1.]\n",
      " [1. 0. 2.]\n",
      " [1. 2. 2.]]\n",
      "player1 is O. player2 is X.\n",
      "player1 goes first.\n",
      "PLAYER 1 WINS!\n",
      "[[1. 2. 0.]\n",
      " [0. 1. 0.]\n",
      " [0. 2. 1.]]\n",
      "player1 is O. player2 is X.\n",
      "player1 goes first.\n",
      "PLAYER 1 WINS!\n",
      "[[1. 2. 0.]\n",
      " [0. 1. 2.]\n",
      " [0. 0. 1.]]\n",
      "player1 is O. player2 is X.\n",
      "player2 goes first.\n",
      "NO ONE WON DRAW!\n",
      "[[1. 2. 1.]\n",
      " [2. 1. 2.]\n",
      " [2. 1. 2.]]\n",
      "player1 is O. player2 is X.\n",
      "player1 goes first.\n",
      "PLAYER 1 WINS!\n",
      "[[1. 2. 0.]\n",
      " [0. 1. 0.]\n",
      " [0. 2. 1.]]\n",
      "player1 is O. player2 is X.\n",
      "player1 goes first.\n",
      "PLAYER 1 WINS!\n",
      "[[1. 0. 0.]\n",
      " [0. 1. 2.]\n",
      " [2. 0. 1.]]\n",
      "player1 is O. player2 is X.\n",
      "player1 goes first.\n",
      "PLAYER 1 WINS!\n",
      "[[1. 1. 1.]\n",
      " [0. 0. 0.]\n",
      " [2. 0. 2.]]\n",
      "player1 is O. player2 is X.\n",
      "player1 goes first.\n",
      "PLAYER 1 WINS!\n",
      "[[1. 2. 0.]\n",
      " [2. 1. 0.]\n",
      " [0. 0. 1.]]\n",
      "player1 is O. player2 is X.\n",
      "player1 goes first.\n",
      "PLAYER 1 WINS!\n",
      "[[1. 0. 0.]\n",
      " [2. 1. 0.]\n",
      " [2. 0. 1.]]\n",
      "player1 is O. player2 is X.\n",
      "player2 goes first.\n",
      "PLAYER 1 WINS!\n",
      "[[1. 1. 2.]\n",
      " [2. 1. 2.]\n",
      " [2. 1. 0.]]\n",
      "player1 is O. player2 is X.\n",
      "player1 goes first.\n",
      "PLAYER 1 WINS!\n",
      "[[1. 0. 2.]\n",
      " [0. 1. 0.]\n",
      " [2. 0. 1.]]\n",
      "player1 is O. player2 is X.\n",
      "player2 goes first.\n",
      "PLAYER 1 WINS!\n",
      "[[1. 1. 1.]\n",
      " [0. 0. 2.]\n",
      " [2. 2. 0.]]\n",
      "player1 is O. player2 is X.\n",
      "player2 goes first.\n",
      "PLAYER 1 WINS!\n",
      "[[1. 2. 2.]\n",
      " [2. 1. 0.]\n",
      " [0. 0. 1.]]\n",
      "player1 is O. player2 is X.\n",
      "player2 goes first.\n",
      "PLAYER 2 WINS!\n",
      "[[1. 1. 2.]\n",
      " [1. 2. 2.]\n",
      " [0. 0. 2.]]\n",
      "player1 is O. player2 is X.\n",
      "player1 goes first.\n",
      "PLAYER 1 WINS!\n",
      "[[1. 0. 2.]\n",
      " [1. 2. 0.]\n",
      " [1. 2. 1.]]\n",
      "player1 is O. player2 is X.\n",
      "player2 goes first.\n",
      "PLAYER 2 WINS!\n",
      "[[1. 2. 1.]\n",
      " [1. 2. 1.]\n",
      " [2. 2. 2.]]\n",
      "player1 is O. player2 is X.\n",
      "player1 goes first.\n",
      "PLAYER 1 WINS!\n",
      "[[1. 1. 2.]\n",
      " [2. 1. 0.]\n",
      " [0. 1. 2.]]\n",
      "player1 is O. player2 is X.\n",
      "player1 goes first.\n",
      "PLAYER 1 WINS!\n",
      "[[1. 0. 2.]\n",
      " [0. 1. 2.]\n",
      " [0. 0. 1.]]\n",
      "player1 is O. player2 is X.\n",
      "player2 goes first.\n",
      "PLAYER 1 WINS!\n",
      "[[1. 2. 0.]\n",
      " [2. 1. 2.]\n",
      " [0. 0. 1.]]\n",
      "player1 is O. player2 is X.\n",
      "player2 goes first.\n",
      "PLAYER 1 WINS!\n",
      "[[1. 2. 2.]\n",
      " [1. 2. 1.]\n",
      " [1. 0. 2.]]\n",
      "player1 is O. player2 is X.\n",
      "player2 goes first.\n",
      "PLAYER 1 WINS!\n",
      "[[1. 1. 1.]\n",
      " [2. 2. 0.]\n",
      " [0. 0. 2.]]\n",
      "player1 is O. player2 is X.\n",
      "player2 goes first.\n",
      "PLAYER 1 WINS!\n",
      "[[1. 1. 1.]\n",
      " [2. 2. 0.]\n",
      " [0. 0. 2.]]\n",
      "player1 is O. player2 is X.\n",
      "player1 goes first.\n",
      "PLAYER 1 WINS!\n",
      "[[1. 0. 0.]\n",
      " [2. 1. 0.]\n",
      " [0. 2. 1.]]\n",
      "player1 is O. player2 is X.\n",
      "player2 goes first.\n",
      "PLAYER 1 WINS!\n",
      "[[2. 1. 2.]\n",
      " [2. 2. 0.]\n",
      " [1. 1. 1.]]\n",
      "player1 is O. player2 is X.\n",
      "player2 goes first.\n",
      "PLAYER 1 WINS!\n",
      "[[1. 1. 2.]\n",
      " [2. 1. 0.]\n",
      " [2. 1. 2.]]\n",
      "player1 is O. player2 is X.\n",
      "player1 goes first.\n",
      "PLAYER 1 WINS!\n",
      "[[1. 2. 0.]\n",
      " [0. 1. 0.]\n",
      " [0. 2. 1.]]\n",
      "player1 is O. player2 is X.\n",
      "player1 goes first.\n",
      "PLAYER 1 WINS!\n",
      "[[1. 0. 2.]\n",
      " [2. 1. 0.]\n",
      " [0. 0. 1.]]\n",
      "minimax player vs random player win=32, lose=6, draw=2\n",
      "minimax player vs minimax prob player win=10, lose=0, draw=0\n"
     ]
    }
   ],
   "source": [
    "from Game import XO\n",
    "from Player import HumanPlayer, RandomPlayer, MiniMaxPlayer, MiniMaxProbPlayer\n",
    "\n",
    "def get_game_result(player1, player2, num_game):\n",
    "    win, lose, draw = 0, 0, 0\n",
    "    for i in range(num_game):\n",
    "        game = XO(player1, player2)\n",
    "        result = game.play_game_without_gui()\n",
    "        if result == 1:\n",
    "            win += 1\n",
    "        elif result == 2:\n",
    "            lose += 1\n",
    "        else:\n",
    "            draw += 1\n",
    "    return win, lose, draw\n",
    "\n",
    "\n",
    "def mark():\n",
    "    player1 = MiniMaxPlayer(1, depth=4)\n",
    "    player2 = RandomPlayer(2)\n",
    "    player3 = MiniMaxProbPlayer(2, depth=3, prob_stochastic=0.8)\n",
    "    win1, lose1, draw1 = get_game_result(player1, player2, 40)\n",
    "    win2, lose2, draw2 = get_game_result(player1, player3, 10)\n",
    "    print(f'minimax player vs random player win={win1}, lose={lose1}, draw={draw1}')\n",
    "    print(f'minimax player vs minimax prob player win={win2}, lose={lose2}, draw={draw2}')\n",
    "    if win1 + win2 >= 45 and lose1 + lose2 == 0:\n",
    "        print('you will earn the full mark from random player vs minimax')\n",
    "\n",
    "\n",
    "mark()"
   ]
  },
  {
   "cell_type": "code",
   "execution_count": null,
   "metadata": {
    "collapsed": false,
    "pycharm": {
     "name": "#%%\n"
    }
   },
   "outputs": [],
   "source": []
  }
 ],
 "metadata": {
  "kernelspec": {
   "display_name": "Python 3",
   "language": "python",
   "name": "python3"
  },
  "language_info": {
   "codemirror_mode": {
    "name": "ipython",
    "version": 3
   },
   "file_extension": ".py",
   "mimetype": "text/x-python",
   "name": "python",
   "nbconvert_exporter": "python",
   "pygments_lexer": "ipython3",
   "version": "3.8.5"
  },
  "vscode": {
   "interpreter": {
    "hash": "aee8b7b246df8f9039afb4144a1f6fd8d2ca17a180786b69acc140d282b71a49"
   }
  }
 },
 "nbformat": 4,
 "nbformat_minor": 4
}
