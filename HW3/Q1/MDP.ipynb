{
 "cells": [
  {
   "attachments": {},
   "cell_type": "markdown",
   "metadata": {},
   "source": [
    "<div align=center>\n",
    "\t\t\n",
    "<p></p>\n",
    "<p></p>\n",
    "<font size=5>\n",
    "<font/>\n",
    "<p></p>\n",
    " <br/>\n",
    "    <br/>\n",
    "<font color=#FF7500>\n",
    "Sharif University of Technology - Department of Computer Engineering\n",
    "</font>\n",
    "<p></p>\n",
    "<font color=blue>\n",
    "Artificial Intelligence\n",
    "</font>\n",
    "<br/>\n",
    "<br/>\n",
    "Spring 2023\n",
    "\n",
    "<div/>\n",
    "\n",
    "<hr/>\n",
    "\t\t<div align=center>\n",
    "\t\t    <font color=red size=6>\n",
    "\t\t\t    <br />\n",
    "Practical Assignment 3 (Markov Decision Process)\n",
    "\t\t\t</font>\n",
    "    <br/>\n",
    "                <br/>\n",
    "    </div>"
   ]
  },
  {
   "attachments": {},
   "cell_type": "markdown",
   "metadata": {},
   "source": [
    "## Section 1: Introduction\n",
    "\n",
    "In this section, we will introduce the concepts of MDP, Q-values, and V-values. These concepts are fundamental to the field of AI and machine learning, as they are used to model **decision-making problems** in various domains such as \"robotics\", \"finance\", and \"healthcare\".\n",
    "\n",
    "MDP stands for Markov Decision Process. It is a mathematical framework for modeling decision-making problems in which the outcomes are partly random and partly under the control of a decision-maker. MDPs are defined by a set of states, a set of actions, a reward function, and a transition function. The goal is to find a policy that maximizes the expected cumulative reward over time.\n",
    "\n",
    "Q-values and V-values are two important concepts in the context of MDPs. A Q-value represents the expected cumulative reward of taking a particular action in a particular state and following a specific policy thereafter. A V-value represents the expected cumulative reward of being in a particular state and following a specific policy thereafter. These values are used to evaluate and improve the policy of an agent in an MDP."
   ]
  },
  {
   "attachments": {},
   "cell_type": "markdown",
   "metadata": {},
   "source": [
    "## Section 2: The Basics of MDPs\n",
    "\n",
    "In this section, we will explain the basic components of an MDP.\n",
    "\n",
    "An MDP is defined by \"a set of states\", \"a set of actions\", \"a reward function\", and \"a transition function\". The state space is the set of all possible states that the agent can be in. The action space is the set of all possible actions that the agent can take. The reward function defines the reward the agent receives for each action taken in a particular state. The transition function defines the probability of moving from one state to another state after taking a particular action.\n",
    "\n",
    "To illustrate these concepts, let's consider an example of a **robot that needs to navigate through a maze**. The robot can be in one of several states, such as at the start of the maze, at a junction in the maze, or at the end of the maze. This robot takes an action. With Probability of **0.8** It goes in that desired direction but with probability of **0.2** It goes in the perpendicular direction (0.1, 0.1 for each)!\n",
    "\n",
    "In an MDP, the agent interacts with the environment by selecting actions based on its current state and the expected future reward. The goal of the agent is to find a policy that maximizes the expected cumulative reward over time."
   ]
  },
  {
   "attachments": {},
   "cell_type": "markdown",
   "metadata": {},
   "source": [
    "**QUESTION**\n",
    "\n",
    "1. What are the state space, action space, reward function, and transition function of the robot in the maze example? Explain why you think each of these components is important for the robot to navigate through the maze.\n",
    "\n",
    "2. Is our environment stochastic or deterministic? Why?!"
   ]
  },
  {
   "cell_type": "markdown",
   "metadata": {
    "collapsed": false,
    "pycharm": {
     "name": "#%% md\n"
    }
   },
   "source": [
    "**ANSWER**\n",
    "1. state space includes all the possible block that can be reached\n",
    "   action space includes the 4 possible moves (N, W, S,  E)\n",
    "   reward function will be implemented soon\n",
    "   transition function: by probability of 80 percent it follows our policy and by probability of 10 percent it goes up(same thing happens for going down)\n",
    "\n",
    "2. we have uncertainty so our environment is deterministic."
   ]
  },
  {
   "attachments": {},
   "cell_type": "markdown",
   "metadata": {},
   "source": [
    "**Define The MDP**:\n",
    "\n",
    "Based on your choice of rewards and transitions and the state space, define the MDP for the robot in the maze example. You can complete the following code to define the MDP:"
   ]
  },
  {
   "cell_type": "code",
   "execution_count": 2,
   "metadata": {},
   "outputs": [
    {
     "name": "stdout",
     "output_type": "stream",
     "text": [
      "Our Maze is: \n",
      " [[2 0 0 0 0]\n",
      " [0 1 1 0 1]\n",
      " [0 0 0 0 0]\n",
      " [0 1 1 1 3]]\n"
     ]
    }
   ],
   "source": [
    "import numpy as np\n",
    "\n",
    "# Definition of the maze\n",
    "maze = np.array([[2, 0, 0, 0, 0],\n",
    "                 [0, 1, 1, 0, 1],\n",
    "                 [0, 0, 0, 0, 0],\n",
    "                 [0, 1, 1, 1, 3]])\n",
    "\n",
    "print(\"Our Maze is: \\n\", maze)\n",
    "\n",
    "# TODO: Define the states and actions\n",
    "states = []\n",
    "for i in range(4):\n",
    "    tmp = []\n",
    "    for j in range(5):\n",
    "        tmp.append((i, j))\n",
    "    states.append(tmp)\n",
    "\n",
    "actions = [(0, 1), (0, -1), (1, 0), (-1, 0)]\n",
    "\n",
    "# TODO: Define the reward function\n",
    "rewards = [[0.0, 0.0, 0.0, 0.0, 0.0],\n",
    "                    [0.0, 0.0, 0.0, 0.0, 0.0],\n",
    "                    [0.0, 0.0, 0.0, 0.0, 0.0],\n",
    "                    [0.0, 0.0, 0.0, 0.0, 0.0]]\n",
    "for i in range(4):\n",
    "    for j in range(5):\n",
    "        if maze[i][j] == 1:\n",
    "            rewards[i][j] = -1.0\n",
    "        elif maze[i][j] == 3:\n",
    "            rewards[i][j] = 1.0\n",
    "\n",
    "\n",
    "# TODO: Define the transition probabilities\n",
    "transition_probs = [0.8, 0.1, 0.1]  # desired, up, down\n",
    "\n",
    "# TODO: Set the discount factor (for further use in v-value iteration and q-value iteration)\n",
    "discount = 0.9\n",
    "\n",
    "# TODO: Define the initial value function (you can simply set all to 0)\n",
    "values = [[0.0 for _ in range(5)] for _ in range(4)]\n",
    "\n",
    "# Define the initial Q function (you can simply set all to 0)\n",
    "q_values = [[0.0 for _ in range(4)] for _ in range(20)]"
   ]
  },
  {
   "attachments": {},
   "cell_type": "markdown",
   "metadata": {},
   "source": [
    "## Section 3: Computing V-values\n",
    "\n",
    "In this section, we will explain how to compute V-values for an MDP using the Bellman equation.\n",
    "\n",
    "The Bellman equation is a recursive equation that expresses the value of a state in terms of the values of its successor states. It is defined as:\n",
    "\n",
    "$$V(s) = R(s) + \\gamma * \\max_a (\\sum_{s'} P(s, a, s') * V(s'))$$\n",
    "\n",
    "where V(s) is the value of state s, R(s) is the reward for being in state s, γ is the discount factor that determines the importance of future rewards, P(s, a, s') is the probability of moving from state s to state s' after taking action a, and max_a is the maximum over all possible actions a.\n",
    "\n",
    "To compute the V-values for an MDP, we start with an initial estimate of the V-values and update them iteratively using the Bellman equation until they converge to the true values. The update rule is:\n",
    "\n",
    "$$V(s) \\leftarrow R(s) + \\gamma * \\max_a (\\sum_{s'} P(s, a, s') * V(s'))$$\n",
    "\n",
    "We can use dynamic programming algorithms such as value iteration or policy iteration to compute the V-values.\n",
    "\n",
    "We can use the Bellman equation to compute the V-values for each state in the maze. The V-values represent the expected cumulative reward that the robot can obtain if it starts from that state and follows an optimal policy thereafter. Complete the code below:\n",
    "\n",
    "(**Note:** your final result can be slightly different from the result printed below and it's okay!)"
   ]
  },
  {
   "cell_type": "code",
   "execution_count": 3,
   "metadata": {},
   "outputs": [
    {
     "name": "stdout",
     "output_type": "stream",
     "text": [
      "[1.1873071620439344, 1.3464023931959859, 1.8111805033620951, 2.3405111288290525, 1.8111805033620951]\n",
      "[1.457345083283926, 1.710163119318918, 2.3711840838973437, 2.7529199101659723, 3.2099248499537496]\n",
      "[1.6672684428394715, 1.9617122270756533, 2.511950036391716, 3.1386097636683425, 3.761627906976742]\n",
      "[1.3741620205494196, 1.6362493449794275, 2.126021460964055, 3.6418711930844982, 3.2383720930232536]\n"
     ]
    }
   ],
   "source": [
    "# TODO: Compute the V-values using Bellman equations\n",
    "def get_possible_actions(current_state):\n",
    "    tmp = []\n",
    "    for action in actions:\n",
    "        x = current_state[0] + action[0]\n",
    "        y = current_state[1] + action[1]\n",
    "        if 0 <= x <= 3 and 0 <= y <= 4 and maze[x][y] != 1:\n",
    "            tmp.append((action, False))\n",
    "        else:\n",
    "            tmp.append((action, True))\n",
    "    return tmp\n",
    "\n",
    "\n",
    "tmp_values = [[0.0 for _ in range(5)] for _ in range(4)]\n",
    "\n",
    "\n",
    "def value_compute():\n",
    "    for i in range(4):\n",
    "        for j in range(5):\n",
    "            temp = []\n",
    "            current_state = states[i][j]\n",
    "            possible_actions = get_possible_actions(current_state)\n",
    "            for action in possible_actions:\n",
    "                move = action[0]\n",
    "                has_collision = action[1]\n",
    "                if move == (0, 1) or move == (0, -1):\n",
    "                    val = 0.0\n",
    "                    if has_collision:\n",
    "                        val += transition_probs[0] * (values[current_state[0]][current_state[1]] * discount - 1.0)\n",
    "\n",
    "                    else:\n",
    "                        val += transition_probs[0] * (values[current_state[0]][current_state[1] + move[1]] * discount + rewards[current_state[0]][current_state[1] + move[1]])\n",
    "                    if possible_actions.count(((1, 0), True)):\n",
    "                        val += transition_probs[1] * (values[current_state[0]][current_state[1]] * discount - 1.0)\n",
    "                    if possible_actions.count(((-1, 0), True)):\n",
    "                        val += transition_probs[2] * (values[current_state[0]][current_state[1]] * discount - 1.0)\n",
    "                    if possible_actions.count(((1, 0), False)):\n",
    "                        val += transition_probs[1] * (values[current_state[0] + 1][current_state[1]] * discount + rewards[current_state[0] + 1][current_state[1]])\n",
    "                    if possible_actions.count(((-1, 0), False)):\n",
    "                        val += transition_probs[1] * (values[current_state[0] - 1][current_state[1]] * discount + rewards[current_state[0] - 1][current_state[1]])\n",
    "                    temp.append(val)\n",
    "\n",
    "                elif move == (1, 0):\n",
    "                    val = 0.0\n",
    "                    if has_collision:\n",
    "                        val += (transition_probs[0] + transition_probs[1]) * (values[current_state[0]][current_state[1]] * discount - 1.0)\n",
    "                    else:\n",
    "                        val += (transition_probs[0] + transition_probs[1]) * (values[current_state[0] + 1][current_state[1]] * discount + rewards[current_state[0] + 1][current_state[1]])\n",
    "                    if possible_actions.count(((-1, 0), True)):\n",
    "                        val += transition_probs[2] * (values[current_state[0]][current_state[1]] * discount - 1.0)\n",
    "                    if possible_actions.count(((-1, 0), False)):\n",
    "                        val += transition_probs[2] * (values[current_state[0] - 1][current_state[1]] * discount + rewards[current_state[0] - 1][current_state[1]])\n",
    "                    temp.append(val)\n",
    "\n",
    "                else:\n",
    "                    val = 0.0\n",
    "                    if has_collision:\n",
    "                        val += (transition_probs[0] + transition_probs[2]) * (values[current_state[0]][current_state[1]] * discount - 1.0)\n",
    "                    else:\n",
    "                        val += (transition_probs[0] + transition_probs[1]) * (values[current_state[0] - 1][current_state[1]] * discount + rewards[current_state[0] - 1][current_state[1]])\n",
    "                    if possible_actions.count(((1, 0), True)):\n",
    "                        val += transition_probs[2] * (values[current_state[0]][current_state[1]] * discount - 1.0)\n",
    "                    if possible_actions.count(((1, 0), False)):\n",
    "                        val += transition_probs[2] * (values[current_state[0] + 1][current_state[1]] * discount + rewards[current_state[0] + 1][current_state[1]])\n",
    "                    temp.append(val)\n",
    "            tmp_values[i][j] = max(temp)\n",
    "\n",
    "\n",
    "for i in range(10000):\n",
    "    value_compute()\n",
    "    values = tmp_values[:]\n",
    "\n",
    "# Print the V-values\n",
    "for i in range(4):\n",
    "    print(values[i])"
   ]
  },
  {
   "attachments": {},
   "cell_type": "markdown",
   "metadata": {},
   "source": [
    "## Section 4: Computing Q-values\n",
    "\n",
    "In this section, we will explain how to compute Q-values for an MDP using the Bellman equation.\n",
    "\n",
    "The Q-values represent the expected cumulative reward that the robot can obtain if it starts from a particular state and takes a particular action, and then follows an optimal policy thereafter. The Q-values can be computed using the Bellman equation as follows:\n",
    "\n",
    "$$Q(s, a) = R(s, a) + \\gamma * \\sum_{s'} (P(s, a, s') * \\max_{a'} (Q(s', a')))$$\n",
    "\n",
    "where Q(s, a) is the Q-value of state-action pair (s, a), R(s, a) is the reward for taking action a in state s, γ is the discount factor that determines the importance of future rewards, P(s, a, s') is the probability of moving from state s to state s' after taking action a, max_a' is the maximum over all possible actions a' in state s', and sum_s' is the sum over all possible successor states s' of state s.\n",
    "\n",
    "To compute the Q-values for an MDP, we start with an initial estimate of the Q-values and update them iteratively using the Bellman equation until they converge to the true values. The update rule is:\n",
    "\n",
    "$$Q(s, a) \\leftarrow R(s, a) + \\gamma * \\sum_{s'} (P(s, a, s') * \\max_{a'} (Q(s', a')))$$\n",
    "\n",
    "We can use dynamic programming algorithms such as Q-learning or SARSA to compute the Q-values.\n",
    "\n",
    "\n",
    "We can use the Q-learning algorithm to compute the Q-values for each state-action pair in the maze. The Q-values represent the expected cumulative reward that the robot can obtain if it starts from a particular state and takes a particular action, and then follows an optimal policy thereafter. Complete the code below:\n",
    "\n",
    "(**Note:** your final result can be slightly different from the result printed below and it's okay!)"
   ]
  },
  {
   "cell_type": "code",
   "execution_count": 10,
   "metadata": {},
   "outputs": [
    {
     "name": "stdout",
     "output_type": "stream",
     "text": [
      "\n",
      "[1.1074284251806175, 0.1928798587511403, 1.1873071620439344, 0.1928798587511403]\n",
      "[1.3464023931959859, 0.8972135874469103, 0.21176215387638744, 0.21176215387638744]\n",
      "[1.8111805033620951, 1.095422213706287, 0.6300624530258856, 0.6300624530258856]\n",
      "[1.6624587559302606, 1.6624587559302606, 2.3405111288290525, 1.24357680626647]\n",
      "[0.6300624530258857, 1.8111805033620951, 0.6300624530258856, 0.6300624530258856]\n",
      "[0.5062002644039334, 0.5062002644039334, 1.457345083283926, 1.1117729611111393]\n",
      "[0.7290477617340686, 1.3470187757888745, 1.710163119318918, 1.2671400389255574]\n",
      "[2.3711840838973437, 1.2963342889839304, 2.197685774779879, 1.6931317109985515]\n",
      "[1.675223215644266, 1.675223215644266, 2.7529199101659723, 2.1782888930816835]\n",
      "[2.012698648897195, 2.483655092249996, 3.2099248499537496, 1.8056027193512039]\n",
      "[1.6672684428394715, 0.6552689181894207, 1.2442322941405832, 1.304124099309428]\n",
      "[1.9617122270756533, 1.3535414797180374, 0.7655410043680879, 0.7655410043680879]\n",
      "[2.511950036391716, 1.6645838100449795, 1.2607550327525445, 1.2607550327525445]\n",
      "[3.1386097636683425, 2.238841696847124, 1.890036700486295, 2.4123400059645888]\n",
      "[2.538372093023254, 2.8897990298412064, 3.761627906976742, 2.538372093023254]\n",
      "[0.3631253965005824, 0.3631253965005824, 0.3631253965005824, 1.3741620205494196]\n",
      "[0.6019160698701451, 1.2132131962805395, 0.6019160698701451, 1.6362493449794275]\n",
      "[1.0481528866561391, 1.0481528866561391, 1.0481528866561391, 2.126021460964055]\n",
      "[3.6418711930844982, 2.332390545128595, 2.332390545128595, 2.770042315948962]\n",
      "[2.0616279069767423, 2.0616279069767423, 2.0616279069767423, 3.2383720930232536]\n"
     ]
    }
   ],
   "source": [
    "temp_qs = q_values.copy()\n",
    "\n",
    "def q_compute():\n",
    "    for i in range(4):\n",
    "        for j in range(5):\n",
    "            current_state = states[i][j]\n",
    "            possible_actions = get_possible_actions(current_state)\n",
    "            for k in range(len(possible_actions)):\n",
    "                action = possible_actions[k]\n",
    "                move = action[0]\n",
    "                has_collision = action[1]\n",
    "                if move == (0, 1) or move == (0, -1):\n",
    "                    val = 0.0\n",
    "                    if has_collision:\n",
    "                        val += transition_probs[0] * (-1.0 + discount * max(q_values[current_state[0] * 5 + current_state[1]]))\n",
    "                    else:\n",
    "                        val += transition_probs[0] * (rewards[current_state[0]][current_state[1] + move[1]] + discount * max(q_values[current_state[0] * 5 + current_state[1] + move[1]]))\n",
    "                    if possible_actions.count(((1, 0), True)):\n",
    "                        val += transition_probs[1] * (-1.0 + discount * max(q_values[current_state[0] * 5 + current_state[1]]))\n",
    "                    if possible_actions.count(((-1, 0), True)):\n",
    "                        val += transition_probs[2] * (-1.0 + discount * max(q_values[current_state[0] * 5 + current_state[1]]))\n",
    "                    if possible_actions.count(((1, 0), False)):\n",
    "                        val += transition_probs[1] * (rewards[current_state[0] + 1][current_state[1]] + discount * max(q_values[(current_state[0] + 1) * 5 + current_state[1]]))\n",
    "                    if possible_actions.count(((-1, 0), False)):\n",
    "                        val += transition_probs[1] * (rewards[current_state[0] - 1][current_state[1]] + discount * max(q_values[(current_state[0] - 1) * 5 + current_state[1]]))\n",
    "                    if move == (0, 1):\n",
    "                        temp_qs[current_state[0] * 5 + current_state[1]][0] = val\n",
    "                    else:\n",
    "                        temp_qs[current_state[0] * 5 + current_state[1]][1] = val\n",
    "\n",
    "                elif move == (1, 0):\n",
    "                    val = 0.0\n",
    "                    if has_collision:\n",
    "                        val += (transition_probs[0] + transition_probs[1]) * (-1.0 + discount * max(q_values[current_state[0] * 5 + current_state[1]]))\n",
    "                    else:\n",
    "                        val += (transition_probs[0] + transition_probs[1]) * (rewards[current_state[0] + move[0]][current_state[1]] + discount * max(q_values[(current_state[0] + 1) * 5 + current_state[1]]))\n",
    "                    if possible_actions.count(((-1, 0), True)):\n",
    "                        val += transition_probs[2] * (-1.0 + discount * max(q_values[current_state[0] * 5 + current_state[1]]))\n",
    "                    if possible_actions.count(((-1, 0), False)):\n",
    "                        val += transition_probs[1] * (rewards[current_state[0]- 1][current_state[1]] + discount * max(q_values[(current_state[0] - 1) * 5 + current_state[1]]))\n",
    "                    temp_qs[current_state[0] * 5 + current_state[1]][2] = val\n",
    "\n",
    "                else:\n",
    "                    val = 0.0\n",
    "                    if has_collision:\n",
    "                        val  += (transition_probs[0] + transition_probs[2]) * (-1.0 + discount * max(q_values[current_state[0] * 5 + current_state[1]]))\n",
    "                    else:\n",
    "                        val += (transition_probs[0] + transition_probs[2]) * (rewards[current_state[0] + move[0]][current_state[1]] + discount * max(q_values[(current_state[0] - 1) * 5 + current_state[1]]))\n",
    "                    if possible_actions.count(((1, 0), True)):\n",
    "                        val += transition_probs[1] * (-1.0 + discount * max(q_values[current_state[0] * 5 + current_state[1]]))\n",
    "                    if possible_actions.count(((1, 0), False)):\n",
    "                        val += transition_probs[1] * (rewards[current_state[0] + 1][current_state[1]] + discount * max(q_values[(current_state[0] + 1) * 5 + current_state[1]]))\n",
    "                    temp_qs[current_state[0] * 5 + current_state[1]][3] = val\n",
    "\n",
    "\n",
    "for i in range(1000):\n",
    "    q_compute()\n",
    "    q_values = temp_qs.copy()\n",
    "\n",
    "# Print the Q-values\n",
    "print()\n",
    "for i in range(20):\n",
    "    print(q_values[i])\n"
   ]
  },
  {
   "attachments": {},
   "cell_type": "markdown",
   "metadata": {},
   "source": [
    "## Section 5: Visualizing the Optimal Policy\n",
    "\n",
    "Now that we have computed the Q-values, we can use them to find the optimal policy, which is the sequence of actions that the robot should take in each state to maximize its expected reward. We can visualize the optimal policy as arrows in a grid, where each arrow corresponds to the action with the highest Q-value in the corresponding state. Complete the code below:\n",
    "\n",
    "(**Note:** your final result can be slightly different from the result printed below and it's okay!)"
   ]
  },
  {
   "cell_type": "code",
   "execution_count": 7,
   "metadata": {},
   "outputs": [
    {
     "name": "stdout",
     "output_type": "stream",
     "text": [
      "[(0, 1), (0, -1), (1, 0), (-1, 0)]\n",
      "[2, 0, 0, 2, 1]\n",
      "[2, 2, 0, 2, 2]\n",
      "[0, 0, 0, 0, 2]\n",
      "[3, 3, 3, 0, 3]\n"
     ]
    }
   ],
   "source": [
    "import matplotlib.pyplot as plt\n",
    "\n",
    "# Compute the optimal policy\n",
    "\n",
    "policy = [[0, 0, 0, 0, 0],\n",
    "          [0, 0, 0, 0, 0],\n",
    "          [0, 0, 0, 0, 0],\n",
    "          [0, 0, 0, 0, 0]]\n",
    "\n",
    "for i in range(20):\n",
    "    x = i // 5\n",
    "    y = i % 5\n",
    "    policy[x][y] = q_values[i].index(max(q_values[i]))\n",
    "\n",
    "print(actions)\n",
    "for i in range(4):\n",
    "    print(policy[i])"
   ]
  },
  {
   "cell_type": "code",
   "execution_count": 33,
   "metadata": {},
   "outputs": [
    {
     "data": {
      "image/png": "[encoded data removed]",
      "text/plain": [
       "<Figure size 640x480 with 1 Axes>"
      ]
     },
     "metadata": {},
     "output_type": "display_data"
    },
    {
     "data": {
      "text/plain": [
       "Ellipsis"
      ]
     },
     "execution_count": 33,
     "metadata": {},
     "output_type": "execute_result"
    }
   ],
   "source": [
    "#TODO: Visualize optimal policy as arrows\n",
    "actions_signs = ['>', '<', 'v', '^']\n",
    "\n",
    "\n",
    "def policy_plot():\n",
    "    row = 4\n",
    "    col = 5\n",
    "    policy_symbolic = [\"\" for _ in range(col * row)]\n",
    "    for i in range(row):\n",
    "        for j in range(col):\n",
    "            policy_symbolic[i * 5 + j] = actions_signs[policy[i][j]]\n",
    "    plt.figure()\n",
    "    cnt = 0\n",
    "    for rr in range(row, 0, -1):\n",
    "        for cc in range(1, col + 1):\n",
    "            plt.fill([cc - 1, cc - 1, cc,  cc], [rr, rr - 1, rr - 1, rr], 'b')\n",
    "            plt.text(cc - 0.55, rr - 0.5, policy_symbolic[cnt])\n",
    "            cnt += 1\n",
    "    plt.show()\n",
    "\n",
    "policy_plot()"
   ]
  },
  {
   "cell_type": "code",
   "execution_count": null,
   "metadata": {
    "collapsed": false,
    "pycharm": {
     "name": "#%%\n"
    }
   },
   "outputs": [],
   "source": []
  }
 ],
 "metadata": {
  "kernelspec": {
   "display_name": "venv",
   "language": "python",
   "name": "python3"
  },
  "language_info": {
   "codemirror_mode": {
    "name": "ipython",
    "version": 3
   },
   "file_extension": ".py",
   "mimetype": "text/x-python",
   "name": "python",
   "nbconvert_exporter": "python",
   "pygments_lexer": "ipython3",
   "version": "3.10.8"
  },
  "orig_nbformat": 4
 },
 "nbformat": 4,
 "nbformat_minor": 2
}
