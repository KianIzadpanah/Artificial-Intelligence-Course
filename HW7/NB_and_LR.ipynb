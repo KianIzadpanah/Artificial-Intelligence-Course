{
 "cells": [
  {
   "cell_type": "markdown",
   "metadata": {
    "collapsed": false,
    "pycharm": {
     "name": "#%% md\n"
    }
   },
   "source": [
    "<div align=center>\n",
    "\t\t\n",
    "<p></p>\n",
    "<p></p>\n",
    "<font size=5>\n",
    "<font/>\n",
    "<p></p>\n",
    " <br/>\n",
    "    <br/>\n",
    "<font color=#FF7500>\n",
    "Sharif University of Technology - Department of Computer Engineering\n",
    "</font>\n",
    "<p></p>\n",
    "<font color=blue>\n",
    "Artificial Intelligence\n",
    "</font>\n",
    "<br/>\n",
    "<br/>\n",
    "Spring 2023\n",
    "\n",
    "<div/>\n",
    "\n",
    "<hr/>\n",
    "\t\t<div align=center>\n",
    "\t\t    <font color=red size=6>\n",
    "\t\t\t    <br />\n",
    "Practical Assignment 7 (Naive Bayes & Logistic Regression)\n",
    "\t\t\t</font>\n",
    "    <br/>\n",
    "                <br/>\n",
    "    </div>"
   ]
  },
  {
   "cell_type": "markdown",
   "metadata": {
    "collapsed": false,
    "pycharm": {
     "name": "#%% md\n"
    }
   },
   "source": [
    "The implementation of Naive Bayes and Logistic Regression is supposed to be from scratch."
   ]
  },
  {
   "cell_type": "markdown",
   "metadata": {
    "id": "36YSVA-j5xQ5"
   },
   "source": [
    "# Naive Bayes (50)"
   ]
  },
  {
   "cell_type": "markdown",
   "metadata": {
    "id": "zGGm0CAthrVm"
   },
   "source": [
    "Naive Bayes methods are a set of supervised learning algorithms based on applying Bayes’ theorem with the “naive” assumption of conditional independence between every pair of features given the value of the class variable."
   ]
  },
  {
   "cell_type": "markdown",
   "metadata": {
    "id": "Rr5nM6pCigHq"
   },
   "source": [
    "$P(y \\mid x_1, \\dots, x_n) = \\frac{P(y) P(x_1, \\dots, x_n \\mid y)} {P(x_1, \\dots, x_n)}$"
   ]
  },
  {
   "cell_type": "markdown",
   "metadata": {
    "id": "iBCcOp2Zis3f"
   },
   "source": [
    "$P(x_i | y, x_1, \\dots, x_{i-1}, x_{i+1}, \\dots, x_n) = P(x_i | y)$"
   ]
  },
  {
   "cell_type": "markdown",
   "metadata": {
    "id": "5_8sGl2JiyC1"
   },
   "source": [
    "$P(y \\mid x_1, \\dots, x_n) = \\frac{P(y) \\prod_{i=1}^{n} P(x_i \\mid y)}{P(x_1, \\dots, x_n)}$"
   ]
  },
  {
   "cell_type": "markdown",
   "metadata": {
    "id": "6cm2XNKHi2PG"
   },
   "source": [
    "$\\begin{align}\\begin{aligned}P(y \\mid x_1, \\dots, x_n) \\propto P(y) \\prod_{i=1}{n} P(x_i \\mid y)\\\\\\Downarrow\\\\\\hat{y} = \\arg\\max_y P(y) \\prod_{i=1}^{n} P(x_i \\mid y)\\end{aligned}\\end{align}$"
   ]
  },
  {
   "cell_type": "markdown",
   "metadata": {
    "id": "I8hTshtjjD4c"
   },
   "source": [
    "In spite of their apparently over-simplified assumptions, naive Bayes classifiers have worked quite well in many real-world situations, famously document classification and spam filtering. They require a small amount of training data to estimate the necessary parameters. "
   ]
  },
  {
   "cell_type": "markdown",
   "metadata": {
    "id": "MhGOePaPjPbG"
   },
   "source": [
    "Naive Bayes learners and classifiers can be extremely fast compared to more sophisticated methods. The decoupling of the class conditional feature distributions means that each distribution can be independently estimated as a one dimensional distribution. This in turn helps to alleviate problems stemming from the curse of dimensionality.\n",
    "\n",
    "On the flip side, although naive Bayes is known as a decent classifier, it is known to be a bad estimator, so the probability outputs are not to be taken too seriously."
   ]
  },
  {
   "cell_type": "code",
   "execution_count": 1,
   "metadata": {
    "id": "luSQvKVFiMVR"
   },
   "outputs": [],
   "source": [
    "import seaborn as sns\n",
    "import pandas as pd\n",
    "import matplotlib.pyplot as plt\n",
    "import numpy as np\n",
    "from scipy.stats import norm\n",
    "import math\n",
    "from math import sqrt\n",
    "np.random.seed(123)"
   ]
  },
  {
   "cell_type": "markdown",
   "metadata": {
    "id": "mG9eriVCk5ZW"
   },
   "source": [
    "### Dataset\n",
    "Load the given dataset. The last column contains the labels. \n",
    "\n",
    "Preprocess if needed."
   ]
  },
  {
   "cell_type": "code",
   "execution_count": 2,
   "metadata": {
    "id": "mcK58W-tkxxK"
   },
   "outputs": [],
   "source": [
    "data = np.loadtxt(\"data.txt\", usecols=[0, 1], dtype=float)\n",
    "labels = np.loadtxt(\"data.txt\", usecols=2, dtype=int)"
   ]
  },
  {
   "cell_type": "markdown",
   "metadata": {
    "id": "SS4_sX-Dmd9H"
   },
   "source": [
    "Consider the values of each class. Create a dictionary for the dataset, with classes as keys and the entries of the dataset as values."
   ]
  },
  {
   "cell_type": "code",
   "execution_count": 3,
   "metadata": {
    "id": "0nDpA3InmdKG"
   },
   "outputs": [],
   "source": [
    "def create_class_dictionary(data, labels):\n",
    "    class_dict = dict()\n",
    "    class_dict.update({0: list()})\n",
    "    class_dict.update({1: list()})\n",
    "    for i in range(len(labels)):\n",
    "        if labels[i] == 0:\n",
    "            class_dict[0].append(data[i])\n",
    "        else:\n",
    "            class_dict[1].append(data[i])\n",
    "    return class_dict"
   ]
  },
  {
   "cell_type": "markdown",
   "metadata": {
    "id": "7oRTA9MPnMhW"
   },
   "source": [
    "For the dataset dictionary, find the mean and standard deviation of all classes. The output format should be a list of two lists, the first one the mean and standard deviation of the first column and the second one is for the second column."
   ]
  },
  {
   "cell_type": "code",
   "execution_count": 4,
   "metadata": {
    "id": "i4WGyr1Kl69o"
   },
   "outputs": [],
   "source": [
    "def standard_deviation(arr):\n",
    "    mean = np.mean(arr)\n",
    "    var = sum([pow(x - mean, 2) for x in arr]) / float(len(arr) - 1)\n",
    "    var = pow(var, 0.5)\n",
    "    return var\n",
    "\n",
    "def info(arr):\n",
    "    tmp = []\n",
    "    for col in zip(*arr):\n",
    "        mean = np.mean(col)\n",
    "        var = standard_deviation(col)\n",
    "        tmp.append((mean, var))\n",
    "    return tmp"
   ]
  },
  {
   "cell_type": "code",
   "execution_count": 5,
   "metadata": {
    "id": "bD_VHsMpnhg_"
   },
   "outputs": [
    {
     "name": "stdout",
     "output_type": "stream",
     "text": [
      "{0: [(-0.0058601171875000005, 0.0993385362029123), (0.0019293359375000003, 0.10108894914037693)], 1: [(-0.0017408606557377047, 0.10225286340847922), (0.004170553278688526, 0.10882725841643064)]}\n"
     ]
    }
   ],
   "source": [
    "def class_info(class_dictionary):\n",
    "    class_info_dict = dict()\n",
    "    class_info_dict.update({0: list()})\n",
    "    class_info_dict.update({1: list()})\n",
    "    for c in class_dictionary:\n",
    "        class_info_dict[c] = info(class_dictionary[c])\n",
    "    return class_info_dict\n",
    "\n",
    "print(class_info(create_class_dictionary(data, labels)))"
   ]
  },
  {
   "cell_type": "markdown",
   "metadata": {
    "id": "LWp9wJ7LpIK6"
   },
   "source": [
    "### Visualization\n",
    "Use the imported libraries to visualize the given data. \n",
    "\n",
    "Why is the info step valid in this dataset? \n",
    "\n",
    "What is the type of this dataset's distribution? With other distribution types, what action would be needed to obtain the mean and standard variation info?"
   ]
  },
  {
   "cell_type": "code",
   "execution_count": 6,
   "metadata": {
    "id": "Mdut2HsDpG7P"
   },
   "outputs": [
    {
     "data": {
      "image/png": "[encoded data removed]",
      "text/plain": [
       "<Figure size 640x480 with 1 Axes>"
      ]
     },
     "metadata": {},
     "output_type": "display_data"
    },
    {
     "data": {
      "image/png": "[encoded data removed]",
      "text/plain": [
       "<Figure size 640x480 with 1 Axes>"
      ]
     },
     "metadata": {},
     "output_type": "display_data"
    },
    {
     "data": {
      "image/png": "[encoded data removed]",
      "text/plain": [
       "<Figure size 640x480 with 1 Axes>"
      ]
     },
     "metadata": {},
     "output_type": "display_data"
    }
   ],
   "source": [
    "def plotter(plot_x, bins):\n",
    "    plt.hist(plot_x, bins)\n",
    "    plt.show()\n",
    "\n",
    "plotter(create_class_dictionary(data,labels)[0], 10)\n",
    "plotter(create_class_dictionary(data,labels)[1], 10)\n",
    "plotter(labels, 10)"
   ]
  },
  {
   "cell_type": "markdown",
   "metadata": {
    "id": "w9YhQPq5qQmi"
   },
   "source": [
    "### Model Details\n",
    "\n",
    "As explained above, to create this model, you need a prior function and a likelihood function.\n",
    "\n",
    "In the likelihood function, you need to calculate the probability of the query belonging to a class. "
   ]
  },
  {
   "cell_type": "code",
   "execution_count": 7,
   "metadata": {
    "id": "DE_8cfT9qT7F"
   },
   "outputs": [],
   "source": [
    "def prior(class_dictionary, labels):\n",
    "    priors = dict()\n",
    "    iter = np.unique(labels)\n",
    "    for out in iter:\n",
    "        priors[out] = sum(labels == out) / len(labels)\n",
    "    return priors"
   ]
  },
  {
   "cell_type": "code",
   "execution_count": 8,
   "metadata": {
    "id": "BrZwF9jNq54e"
   },
   "outputs": [],
   "source": [
    "def likelihood(class_dictionary, query):\n",
    "    probabilities = dict()\n",
    "    probabilities.update({0: 1})\n",
    "    probabilities.update({1: 1})\n",
    "    information = class_info(class_dictionary)\n",
    "    for class_value, row in information.items():\n",
    "        prob1 = (1 / (pow(2 * math.pi, 0.5) * row[0][1])) * math.exp(-(pow(query[0] - row[0][0], 2) / (2 * pow(row[0][1], 2))))\n",
    "        prob2 = (1 / (pow(2 * math.pi, 0.5) * row[1][1])) * math.exp(-(pow(query[1] - row[1][0], 2) / (2 * pow(row[1][1], 2))))\n",
    "        probabilities[class_value] *= prob1\n",
    "        probabilities[class_value] *= prob2\n",
    "\n",
    "    return probabilities"
   ]
  },
  {
   "cell_type": "markdown",
   "metadata": {
    "id": "Yyc87dyz0ZtC"
   },
   "source": [
    "### Predict\n"
   ]
  },
  {
   "cell_type": "code",
   "execution_count": 9,
   "metadata": {
    "id": "LC7-G7-C0UeI"
   },
   "outputs": [],
   "source": [
    "def predict(data, labels, query):\n",
    "    class_dictionary = create_class_dictionary(data, labels)\n",
    "    probabilities = likelihood(class_dictionary, query)\n",
    "    best_label, best_prob = None, -1\n",
    "    for class_value, probability in probabilities.items():\n",
    "        if best_label is None or probability > best_prob:\n",
    "            best_prob = probability\n",
    "            best_label = class_value\n",
    "    return best_label"
   ]
  },
  {
   "cell_type": "code",
   "execution_count": 10,
   "metadata": {
    "id": "cRfNQZ8-04DL"
   },
   "outputs": [],
   "source": [
    "def NB(data, labels, queries):\n",
    "    predictions = list()\n",
    "    for row in queries:\n",
    "        predictions.append(predict(data, labels, row))\n",
    "    return predictions"
   ]
  },
  {
   "cell_type": "markdown",
   "metadata": {
    "id": "ptYF5MxR1IXj"
   },
   "source": [
    "### Test\n",
    "To test the model, import a suitable dataset from sklearn library to check the accuracy of your model. Then import GaussianNB from sklearn and compare your model's result with it."
   ]
  },
  {
   "cell_type": "code",
   "execution_count": 11,
   "metadata": {
    "id": "Pq-bDAf11HKI"
   },
   "outputs": [],
   "source": [
    "def train_test_split(data, labels, test_size):\n",
    "    train_size_X = int(test_size * len(data))\n",
    "    train_size_Y = int(test_size *  len(labels))\n",
    "    return data[0:train_size_X], labels[0:train_size_Y], data[train_size_X:len(data)], labels[train_size_Y:len(labels)]"
   ]
  },
  {
   "cell_type": "code",
   "execution_count": 12,
   "metadata": {
    "id": "ogw89sLN1o1_"
   },
   "outputs": [
    {
     "name": "stdout",
     "output_type": "stream",
     "text": [
      "0.528\n",
      "0.524\n"
     ]
    }
   ],
   "source": [
    "from sklearn.metrics import accuracy_score\n",
    "from sklearn.naive_bayes import GaussianNB\n",
    "\n",
    "def accuracy(ground_truth, predictions):\n",
    "    return accuracy_score(ground_truth, predictions)\n",
    "\n",
    "result = train_test_split(data, labels, 0.75)\n",
    "trained_NB = NB(result[0], result[1],  result[2])\n",
    "print(accuracy(result[3], trained_NB))\n",
    "\n",
    "\n",
    "Gauss_NB = GaussianNB()\n",
    "Gauss_NB.fit(result[0], result[1])\n",
    "print(accuracy(result[3], Gauss_NB.predict(result[2])))"
   ]
  },
  {
   "cell_type": "markdown",
   "metadata": {
    "id": "pB3_dUtp2RGb"
   },
   "source": [
    "# Linear Regression (35)\n",
    "\n",
    "Linear regression analysis is used to predict the value of a variable based on the value of another variable. The variable you want to predict is called the dependent variable. The variable you are using to predict the other variable's value is called the independent variable.\n",
    "\n",
    "Ordinary least squares Linear Regression.\n",
    "\n",
    "LinearRegression from sklearn.linear_model fits a linear model with coefficients w = (w1, …, wp) to minimize the residual sum of squares between the observed targets in the dataset, and the targets predicted by the linear approximation.\n",
    "\n",
    "In this section, you will implement a simple linear regression model using sklearn. Only the first feature of the diabetes dataset is required for this part."
   ]
  },
  {
   "cell_type": "code",
   "execution_count": 13,
   "metadata": {
    "id": "V6nHfZLH2D_1"
   },
   "outputs": [],
   "source": [
    "from sklearn.metrics import r2_score, mean_squared_error\n",
    "from sklearn import datasets, linear_model"
   ]
  },
  {
   "cell_type": "code",
   "execution_count": 14,
   "metadata": {
    "id": "VsJA9bM235h9"
   },
   "outputs": [],
   "source": [
    "diabetes_X, diabetes_y = datasets.load_diabetes(return_X_y=True)\n",
    "diabetes_X = diabetes_X[:, np.newaxis, 2]"
   ]
  },
  {
   "cell_type": "markdown",
   "metadata": {
    "id": "ynGlCxqV4R5n"
   },
   "source": [
    "Split the data into training and testing sets."
   ]
  },
  {
   "cell_type": "code",
   "execution_count": 15,
   "metadata": {
    "id": "VeN0-ObT4Nu7"
   },
   "outputs": [],
   "source": [
    "diabetes_X_train = diabetes_X[:-20]\n",
    "diabetes_X_test = diabetes_X[-20:]\n",
    "diabetes_y_train = diabetes_y[:-20]\n",
    "diabetes_y_test = diabetes_y[-20:]"
   ]
  },
  {
   "cell_type": "markdown",
   "metadata": {
    "id": "E0diHAiL4qww"
   },
   "source": [
    "Create the model using sklearn. Then train it using the training set."
   ]
  },
  {
   "cell_type": "code",
   "execution_count": 16,
   "metadata": {
    "id": "_76nVOTH4lLI"
   },
   "outputs": [
    {
     "data": {
      "text/html": [
       "<style>#sk-container-id-1 {color: black;background-color: white;}#sk-container-id-1 pre{padding: 0;}#sk-container-id-1 div.sk-toggleable {background-color: white;}#sk-container-id-1 label.sk-toggleable__label {cursor: pointer;display: block;width: 100%;margin-bottom: 0;padding: 0.3em;box-sizing: border-box;text-align: center;}#sk-container-id-1 label.sk-toggleable__label-arrow:before {content: \"▸\";float: left;margin-right: 0.25em;color: #696969;}#sk-container-id-1 label.sk-toggleable__label-arrow:hover:before {color: black;}#sk-container-id-1 div.sk-estimator:hover label.sk-toggleable__label-arrow:before {color: black;}#sk-container-id-1 div.sk-toggleable__content {max-height: 0;max-width: 0;overflow: hidden;text-align: left;background-color: #f0f8ff;}#sk-container-id-1 div.sk-toggleable__content pre {margin: 0.2em;color: black;border-radius: 0.25em;background-color: #f0f8ff;}#sk-container-id-1 input.sk-toggleable__control:checked~div.sk-toggleable__content {max-height: 200px;max-width: 100%;overflow: auto;}#sk-container-id-1 input.sk-toggleable__control:checked~label.sk-toggleable__label-arrow:before {content: \"▾\";}#sk-container-id-1 div.sk-estimator input.sk-toggleable__control:checked~label.sk-toggleable__label {background-color: #d4ebff;}#sk-container-id-1 div.sk-label input.sk-toggleable__control:checked~label.sk-toggleable__label {background-color: #d4ebff;}#sk-container-id-1 input.sk-hidden--visually {border: 0;clip: rect(1px 1px 1px 1px);clip: rect(1px, 1px, 1px, 1px);height: 1px;margin: -1px;overflow: hidden;padding: 0;position: absolute;width: 1px;}#sk-container-id-1 div.sk-estimator {font-family: monospace;background-color: #f0f8ff;border: 1px dotted black;border-radius: 0.25em;box-sizing: border-box;margin-bottom: 0.5em;}#sk-container-id-1 div.sk-estimator:hover {background-color: #d4ebff;}#sk-container-id-1 div.sk-parallel-item::after {content: \"\";width: 100%;border-bottom: 1px solid gray;flex-grow: 1;}#sk-container-id-1 div.sk-label:hover label.sk-toggleable__label {background-color: #d4ebff;}#sk-container-id-1 div.sk-serial::before {content: \"\";position: absolute;border-left: 1px solid gray;box-sizing: border-box;top: 0;bottom: 0;left: 50%;z-index: 0;}#sk-container-id-1 div.sk-serial {display: flex;flex-direction: column;align-items: center;background-color: white;padding-right: 0.2em;padding-left: 0.2em;position: relative;}#sk-container-id-1 div.sk-item {position: relative;z-index: 1;}#sk-container-id-1 div.sk-parallel {display: flex;align-items: stretch;justify-content: center;background-color: white;position: relative;}#sk-container-id-1 div.sk-item::before, #sk-container-id-1 div.sk-parallel-item::before {content: \"\";position: absolute;border-left: 1px solid gray;box-sizing: border-box;top: 0;bottom: 0;left: 50%;z-index: -1;}#sk-container-id-1 div.sk-parallel-item {display: flex;flex-direction: column;z-index: 1;position: relative;background-color: white;}#sk-container-id-1 div.sk-parallel-item:first-child::after {align-self: flex-end;width: 50%;}#sk-container-id-1 div.sk-parallel-item:last-child::after {align-self: flex-start;width: 50%;}#sk-container-id-1 div.sk-parallel-item:only-child::after {width: 0;}#sk-container-id-1 div.sk-dashed-wrapped {border: 1px dashed gray;margin: 0 0.4em 0.5em 0.4em;box-sizing: border-box;padding-bottom: 0.4em;background-color: white;}#sk-container-id-1 div.sk-label label {font-family: monospace;font-weight: bold;display: inline-block;line-height: 1.2em;}#sk-container-id-1 div.sk-label-container {text-align: center;}#sk-container-id-1 div.sk-container {/* jupyter's `normalize.less` sets `[hidden] { display: none; }` but bootstrap.min.css set `[hidden] { display: none !important; }` so we also need the `!important` here to be able to override the default hidden behavior on the sphinx rendered scikit-learn.org. See: https://github.com/scikit-learn/scikit-learn/issues/21755 */display: inline-block !important;position: relative;}#sk-container-id-1 div.sk-text-repr-fallback {display: none;}</style><div id=\"sk-container-id-1\" class=\"sk-top-container\"><div class=\"sk-text-repr-fallback\"><pre>LinearRegression()</pre><b>In a Jupyter environment, please rerun this cell to show the HTML representation or trust the notebook. <br />On GitHub, the HTML representation is unable to render, please try loading this page with nbviewer.org.</b></div><div class=\"sk-container\" hidden><div class=\"sk-item\"><div class=\"sk-estimator sk-toggleable\"><input class=\"sk-toggleable__control sk-hidden--visually\" id=\"sk-estimator-id-1\" type=\"checkbox\" checked><label for=\"sk-estimator-id-1\" class=\"sk-toggleable__label sk-toggleable__label-arrow\">LinearRegression</label><div class=\"sk-toggleable__content\"><pre>LinearRegression()</pre></div></div></div></div></div>"
      ],
      "text/plain": [
       "LinearRegression()"
      ]
     },
     "execution_count": 16,
     "metadata": {},
     "output_type": "execute_result"
    }
   ],
   "source": [
    "model = linear_model.LinearRegression()\n",
    "model.fit(diabetes_X_train, diabetes_y_train)"
   ]
  },
  {
   "cell_type": "markdown",
   "metadata": {
    "id": "jogQMqjc41q9"
   },
   "source": [
    "Make predictions for the test set."
   ]
  },
  {
   "cell_type": "code",
   "execution_count": 17,
   "metadata": {
    "id": "LIIMboiY5CiT"
   },
   "outputs": [
    {
     "name": "stdout",
     "output_type": "stream",
     "text": [
      "Predictions: \n",
      " [225.9732401  115.74763374 163.27610621 114.73638965 120.80385422\n",
      " 158.21988574 236.08568105 121.81509832  99.56772822 123.83758651\n",
      " 204.73711411  96.53399594 154.17490936 130.91629517  83.3878227\n",
      " 171.36605897 137.99500384 137.99500384 189.56845268  84.3990668 ]\n",
      "Coefficients: \n",
      " [938.23786125]\n",
      "Mean squared error: 2548.07\n",
      "Coefficient of determination: 0.47\n"
     ]
    }
   ],
   "source": [
    "diabetes_y_pred = model.predict(diabetes_X_test)\n",
    "print(\"Predictions: \\n\", diabetes_y_pred)\n",
    "print(\"Coefficients: \\n\", model.coef_)\n",
    "print(\"Mean squared error: %.2f\" % mean_squared_error(diabetes_y_test, diabetes_y_pred))\n",
    "print(\"Coefficient of determination: %.2f\" % r2_score(diabetes_y_test, diabetes_y_pred))"
   ]
  },
  {
   "cell_type": "markdown",
   "metadata": {
    "id": "Mv3PUcdS5Dlo"
   },
   "source": [
    "Visualize your predictions and compare them to ground truth using the imported libraries."
   ]
  },
  {
   "cell_type": "code",
   "execution_count": 18,
   "metadata": {
    "id": "LsTXKZvM5KWp"
   },
   "outputs": [
    {
     "data": {
      "image/png": "[encoded data removed]",
      "text/plain": [
       "<Figure size 640x480 with 1 Axes>"
      ]
     },
     "metadata": {},
     "output_type": "display_data"
    }
   ],
   "source": [
    "plt.scatter(diabetes_X_test, diabetes_y_test, color=\"black\")\n",
    "plt.plot(diabetes_X_test, diabetes_y_pred, color=\"blue\", linewidth=2)\n",
    "plt.xticks(())\n",
    "plt.yticks(())\n",
    "plt.show()"
   ]
  },
  {
   "cell_type": "markdown",
   "metadata": {
    "collapsed": false,
    "pycharm": {
     "name": "#%% md\n"
    }
   },
   "source": [
    "\n",
    "<b>NOTICE:\n",
    "in ghesmat tamaman dar site zekr shode mojood ast va az anjaei ke khaste shode ta az library haye zekr shode estefade shavad, tagheir ziadi dar code nemitavan dad banabarin momken ast ba sayer daneshjooyan  shebahat dashte bashad.<b/>\n"
   ]
  },
  {
   "cell_type": "markdown",
   "metadata": {
    "id": "d8Kg5i465SNb"
   },
   "source": [
    "# Logistic Regression (15 + 50)\n",
    "\n",
    "This type of statistical model (also known as logit model) is often used for classification and predictive analytics. Logistic regression estimates the probability of an event occurring, such as voted or didn't vote, based on a given dataset of independent variables.\n",
    "\n",
    "$S(h(x)) = \\frac{1}{1 + e^{-(\\theta_0 + \\theta_1 x_1 + \\theta_1 x_2 + \\cdots + \\theta_n x_n})} = \\frac{1}{1 + e^{-\\theta^T x}} \\tag{2}$\n",
    "\n",
    "The sigmoid function is of importance here and is defined as:\n",
    "\n",
    "$S(x) = \\frac{1}{1 + e^{-x}}$\n",
    "\n",
    "\n",
    "\n",
    "\n"
   ]
  },
  {
   "cell_type": "markdown",
   "metadata": {
    "id": "V_Rc3pUF6Pji"
   },
   "source": [
    "Calculate the sigmoid function and visualize it."
   ]
  },
  {
   "cell_type": "code",
   "execution_count": 19,
   "metadata": {
    "id": "v_bGZ_X85f4W"
   },
   "outputs": [],
   "source": [
    "def sigmoid(x):\n",
    "    return 1. / (np.exp(-x) + 1.)"
   ]
  },
  {
   "cell_type": "code",
   "execution_count": 20,
   "metadata": {
    "id": "Qrcgiip56e50"
   },
   "outputs": [
    {
     "data": {
      "image/png": "[encoded data removed]",
      "text/plain": [
       "<Figure size 640x480 with 1 Axes>"
      ]
     },
     "metadata": {},
     "output_type": "display_data"
    }
   ],
   "source": [
    "x = np.linspace(-10, 10, 100)\n",
    "plt.plot(x, sigmoid(x))\n",
    "plt.show()"
   ]
  },
  {
   "cell_type": "markdown",
   "metadata": {
    "id": "IwL9DuGh7EHh"
   },
   "source": [
    "#Dataset\n",
    "Load the given dataset (same as naive bayes). Add a new column at the end of the dataset containing only 1s."
   ]
  },
  {
   "cell_type": "code",
   "execution_count": 21,
   "metadata": {
    "id": "D00oSB3Q6rD9"
   },
   "outputs": [],
   "source": [
    "data = np.loadtxt(\"data.txt\", usecols=[0, 1], dtype=float)\n",
    "B = np.array([[1.] for _ in range(len(data))])\n",
    "data = np.hstack((data, B))\n",
    "labels = np.loadtxt(\"data.txt\", usecols=2, dtype=int)"
   ]
  },
  {
   "cell_type": "markdown",
   "metadata": {
    "id": "ejeLlynP7Xa_"
   },
   "source": [
    "### Predictions\n",
    "\n",
    "Simply implement the math above to make predictions. Since we are using numbers here, define the threshold of 0.5 for classification."
   ]
  },
  {
   "cell_type": "code",
   "execution_count": 22,
   "metadata": {
    "id": "IJrCamvm7WzK"
   },
   "outputs": [],
   "source": [
    "def prediction(weights, x):\n",
    "    threshold = 0.5\n",
    "    y_hat = sigmoid(np.dot(x, weights))\n",
    "    y_hat[y_hat < threshold] = 0\n",
    "    y_hat[y_hat >= threshold] = 1\n",
    "    return y_hat"
   ]
  },
  {
   "cell_type": "markdown",
   "metadata": {
    "id": "b-XmjNsO75bS"
   },
   "source": [
    "### Loss Function\n",
    "Cross-entropy loss, or log loss, measures the performance of a classification model whose output is a probability value between 0 and 1. Cross-entropy loss increases as the predicted probability diverges from the actual label. So predicting a probability of .012 when the actual observation label is 1 would be bad and result in a high loss value. A perfect model would have a log loss of 0.\n",
    "\n",
    "In binary classification, where the number of classes M\n",
    " equals 2, cross-entropy can be calculated as:\n",
    "\n",
    "$−(ylog(p)+(1−y)log(1−p))$\n"
   ]
  },
  {
   "cell_type": "code",
   "execution_count": 23,
   "metadata": {
    "id": "iM3SUJA-717R"
   },
   "outputs": [],
   "source": [
    "def cross_entropy(y_true, y_pred):\n",
    "    return -y_true * np.log2(y_pred) - (1. - y_true) * np.log2(1. - y_pred)"
   ]
  },
  {
   "cell_type": "markdown",
   "metadata": {
    "id": "sgOxchuk89lL"
   },
   "source": [
    "### Gradient Descent\n",
    "\n",
    "Gradient Descent is an optimization algorithm for finding a local minimum of a differentiable function. Gradient descent in machine learning is simply used to find the values of a function's parameters (coefficients) that minimize a cost function as far as possible.\n",
    "\n",
    "$\\theta := \\theta - \\alpha \\nabla_\\theta H \\tag{6}$"
   ]
  },
  {
   "cell_type": "code",
   "execution_count": 24,
   "metadata": {
    "id": "75qw2i3680QK"
   },
   "outputs": [],
   "source": [
    "def gradient_descent(X, y, weight, num_of_epochs, learning_rate = 0.005):\n",
    "    while num_of_epochs:\n",
    "        z_hat = prediction(weight, X) - y\n",
    "        X_t = np.matrix.transpose(X)\n",
    "        weight -= learning_rate * np.dot(X_t, z_hat)\n",
    "        num_of_epochs -= 1\n",
    "    return weight"
   ]
  },
  {
   "cell_type": "code",
   "execution_count": 25,
   "metadata": {
    "id": "vrNePqPL-SDM"
   },
   "outputs": [],
   "source": [
    "def LR(train_set, labels, test_set, num_of_epochs, learning_rate = 0.005):\n",
    "    weight = np.array([[0.0], [0.0], [0.0]])\n",
    "    for i in range(3):\n",
    "        weight[i][0] = np.random.random()\n",
    "    weight = gradient_descent(train_set, labels, weight, num_of_epochs)\n",
    "    return prediction(weight, test_set)"
   ]
  },
  {
   "cell_type": "markdown",
   "metadata": {
    "id": "O6P0Usic-Maj"
   },
   "source": [
    "### Test\n",
    "\n",
    "To test the model, import a suitable dataset from sklearn library to check the accuracy of your model. Then import LogisticRegression from sklearn and compare your model's result with it.\n",
    "\n"
   ]
  },
  {
   "cell_type": "code",
   "execution_count": 26,
   "metadata": {
    "id": "11f8e3rS_CbB"
   },
   "outputs": [
    {
     "name": "stdout",
     "output_type": "stream",
     "text": [
      "0.5\n",
      "0.5\n"
     ]
    }
   ],
   "source": [
    "def accuracy(ground_truth, predictions):\n",
    "    return accuracy_score(ground_truth, predictions)\n",
    "\n",
    "train_size = int(0.85 * len(data))\n",
    "x_train = data[0:train_size]\n",
    "y_train = np.array(labels[0:train_size]).reshape(train_size, 1)\n",
    "x_test = data[train_size:len(data)]\n",
    "y_test = np.array(labels[train_size:len(data)]).reshape(len(data) - train_size, 1)\n",
    "final_prediction = list(LR(x_train, y_train, x_test, len(data)))\n",
    "print(accuracy(y_test, final_prediction))\n",
    "\n",
    "\n",
    "from sklearn.linear_model import LogisticRegression\n",
    "y_train = y_train.ravel()\n",
    "model = LogisticRegression().fit(x_train, y_train)\n",
    "print(model.score(x_test, y_test))"
   ]
  },
  {
   "cell_type": "markdown",
   "metadata": {
    "id": "GGu4MOmU_QVq"
   },
   "source": [
    "### Visualization\n",
    "\n",
    "During your model's training, save the accuracy and loss of each epoch, and then plot them using the imported libraries. Explain the pattern. If the result is not satisfactory, change the learning rate, num of epochs, initial weights, etc and observe their effects on the result."
   ]
  },
  {
   "cell_type": "code",
   "execution_count": 27,
   "metadata": {
    "id": "EdlupQWb_3OI",
    "pycharm": {
     "name": "#%%\n"
    }
   },
   "outputs": [
    {
     "data": {
      "image/png": "[encoded data removed]",
      "text/plain": [
       "<Figure size 640x480 with 1 Axes>"
      ]
     },
     "metadata": {},
     "output_type": "display_data"
    }
   ],
   "source": [
    "tmp = [[0.0] for _ in range(len(data) - train_size)]\n",
    "tmp = np.array(tmp)\n",
    "for i in range(len(data) - train_size):\n",
    "    tmp[i] = np.mean(x_test[i])\n",
    "\n",
    "model_prediction = list(model.predict(x_test))\n",
    "plt.scatter(tmp, y_test)\n",
    "plt.plot(tmp, model_prediction)\n",
    "plt.show()"
   ]
  },
  {
   "cell_type": "code",
   "execution_count": null,
   "metadata": {
    "collapsed": false,
    "pycharm": {
     "name": "#%%\n"
    }
   },
   "outputs": [],
   "source": []
  }
 ],
 "metadata": {
  "colab": {
   "provenance": []
  },
  "kernelspec": {
   "display_name": "Python 3 (ipykernel)",
   "language": "python",
   "name": "python3"
  },
  "language_info": {
   "codemirror_mode": {
    "name": "ipython",
    "version": 3
   },
   "file_extension": ".py",
   "mimetype": "text/x-python",
   "name": "python",
   "nbconvert_exporter": "python",
   "pygments_lexer": "ipython3",
   "version": "3.8.5"
  }
 },
 "nbformat": 4,
 "nbformat_minor": 4
}
